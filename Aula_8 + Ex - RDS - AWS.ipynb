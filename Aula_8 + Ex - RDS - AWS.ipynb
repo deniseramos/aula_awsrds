{
 "cells": [
  {
   "cell_type": "code",
   "execution_count": null,
   "metadata": {},
   "outputs": [],
   "source": [
    "#  \"### Exercício:\\n\",\n",
    "#     \"#### 1. Criar projeto chamado \\\"database-aws\\\" no AWS\\n\",\n",
    "#     \"#### 2. Criar banco chamado \\\"handbook\\\";\\n\",\n",
    "#     \"#### 3. Criar tabela chamada \\\"birth\\\";\\n\",\n",
    "#     \"#### 4. Importar dados do csv birth.csv para a tabela birth;\\n\",\n",
    "#     \"#### 5. Criar api em flask com as seguintes funções:\\n\",\n",
    "#     \"<ul>\\n\",\n",
    "#     \"    <li> Endpoint de get que retorne o ano em que nasceram mais pessoas e faça o gráfico de barras em que o eixo x são os meses e o eixo y é a quatidade de pessoas daquele mês;\\n\",\n",
    "#     \"    <li> Endpoint de get que retorne o mês em que nasceram mais mulheres e faça o gráfico de linha em que o eixo x é a quantidade de mulheres e o eixo y os dias do mês;\\n\",\n",
    "#     \"    <li> Endpoint de get que passe o mês e retorne a quantidade de homens que nasceram nesse mês e faça o histograma em que o eixo x é a quandidade de homens que nasceu em cada dia;\\n\",\n",
    "#     \"<ul>\\n\""
   ]
  },
  {
   "cell_type": "code",
   "execution_count": null,
   "metadata": {},
   "outputs": [],
   "source": [
    "# DATABASE\n",
    "# Create database\n",
    "# Standart\n",
    "# Postgress\n",
    "# FreTier\n",
    "# Additional connectivity configuration / Publicly accessible : Yes\n",
    "    \n",
    "    \n",
    "# EC2\n",
    "# Security Groups \n",
    "# Create Security Group\n",
    "# Inbound add rule > type: all traffic / source anywhere\n",
    "# create\n",
    "# marca o check box > edit outbound rules > verificar se tb esta all traffic e destination anywhere\n",
    "\n",
    "\n",
    "# APÓS CRIAR O BANCO\n",
    "# Seleciona o banco e Modify\n",
    "# Security Group > Adicionar o grupo que criou no passo anterior e exclui o outro\n",
    "# Apply immediately > Apply DB Instance\n",
    "\n",
    "# Clicar no nome do banco de dados\n",
    "# Copiar endpoint - database-1.c7xoxkhkj7po.us-east-2.rds.amazonaws.com\n",
    "# Endpoint = Host\n",
    "\n"
   ]
  },
  {
   "cell_type": "code",
   "execution_count": null,
   "metadata": {},
   "outputs": [],
   "source": [
    "!pip install psycopg2"
   ]
  },
  {
   "cell_type": "code",
   "execution_count": 1,
   "metadata": {},
   "outputs": [
    {
     "name": "stdout",
     "output_type": "stream",
     "text": [
      "{'user': 'postgres', 'dbname': 'postgres', 'host': 'database-1.c7xoxkhkj7po.us-east-2.rds.amazonaws.com', 'port': '5432', 'tty': '', 'options': '', 'sslmode': 'prefer', 'sslcompression': '0', 'krbsrvname': 'postgres', 'target_session_attrs': 'any'} \n",
      "\n",
      "You are connected to -  ('PostgreSQL 11.5 on x86_64-pc-linux-gnu, compiled by gcc (GCC) 4.8.3 20140911 (Red Hat 4.8.3-9), 64-bit',) \n",
      "\n",
      "Error while connecting to PostgreSQL database \"handbook\" already exists\n",
      "\n"
     ]
    }
   ],
   "source": [
    "import psycopg2\n",
    "from psycopg2.extensions import ISOLATION_LEVEL_AUTOCOMMIT\n",
    "\n",
    "try:\n",
    "    connection = psycopg2.connect(user = \"postgres\",\n",
    "                                 password=\"postgres\",\n",
    "                                 host=\"database-1.c7xoxkhkj7po.us-east-2.rds.amazonaws.com\",\n",
    "                                 port = \"5432\")\n",
    "    cursor = connection.cursor()\n",
    "    \n",
    "    print(connection.get_dsn_parameters(),\"\\n\")\n",
    "    \n",
    "    #Print PostgreSQL Version\n",
    "    cursor.execute(\"SELECT version();\")\n",
    "    record = cursor.fetchone()\n",
    "    print(\"You are connected to - \", record, \"\\n\")\n",
    "    \n",
    "    connection.set_isolation_level(ISOLATION_LEVEL_AUTOCOMMIT);\n",
    "    \n",
    "    name_Database = \"handbook\";\n",
    "    \n",
    "    sqlCreateDatabase = \"create database \"+name_Database+\";\"\n",
    "    \n",
    "    cursor.execute(sqlCreateDatabase);\n",
    "    \n",
    "except (Exception, psycopg2.Error) as error:\n",
    "    print(\"Error while connecting to PostgreSQL\", error)\n",
    "# finally:\n",
    "#     #closing database connection\n",
    "#     if (connection):\n",
    "#         cursor.close()\n",
    "#         connection.close()\n",
    "#         print(\"PostgreSQL connection is closed\")\n",
    "        "
   ]
  },
  {
   "cell_type": "markdown",
   "metadata": {},
   "source": [
    "# criando a tabela \n",
    "\n",
    "sql = 'create table births2 (year int, month int, day int, gender varchar(1), births int)'\n",
    "cursor.execute(sql)\n",
    "connection.commit()"
   ]
  },
  {
   "cell_type": "code",
   "execution_count": 18,
   "metadata": {},
   "outputs": [
    {
     "ename": "KeyboardInterrupt",
     "evalue": "",
     "output_type": "error",
     "traceback": [
      "\u001b[1;31m---------------------------------------------------------------------------\u001b[0m",
      "\u001b[1;31mKeyboardInterrupt\u001b[0m                         Traceback (most recent call last)",
      "\u001b[1;32m<ipython-input-18-f9a7585f4839>\u001b[0m in \u001b[0;36m<module>\u001b[1;34m\u001b[0m\n\u001b[0;32m      9\u001b[0m     \u001b[1;32melse\u001b[0m\u001b[1;33m:\u001b[0m\u001b[1;33m\u001b[0m\u001b[1;33m\u001b[0m\u001b[0m\n\u001b[0;32m     10\u001b[0m         \u001b[0msql\u001b[0m \u001b[1;33m=\u001b[0m \u001b[1;34m\"INSERT INTO births2 VALUES ({}, {}, {}, '{}', {})\"\u001b[0m\u001b[1;33m.\u001b[0m\u001b[0mformat\u001b[0m\u001b[1;33m(\u001b[0m\u001b[0mx\u001b[0m\u001b[1;33m[\u001b[0m\u001b[1;36m0\u001b[0m\u001b[1;33m]\u001b[0m\u001b[1;33m,\u001b[0m\u001b[0mx\u001b[0m\u001b[1;33m[\u001b[0m\u001b[1;36m1\u001b[0m\u001b[1;33m]\u001b[0m\u001b[1;33m,\u001b[0m\u001b[0mx\u001b[0m\u001b[1;33m[\u001b[0m\u001b[1;36m2\u001b[0m\u001b[1;33m]\u001b[0m\u001b[1;33m,\u001b[0m\u001b[0mx\u001b[0m\u001b[1;33m[\u001b[0m\u001b[1;36m3\u001b[0m\u001b[1;33m]\u001b[0m\u001b[1;33m,\u001b[0m\u001b[0mx\u001b[0m\u001b[1;33m[\u001b[0m\u001b[1;36m4\u001b[0m\u001b[1;33m]\u001b[0m\u001b[1;33m)\u001b[0m\u001b[1;33m\u001b[0m\u001b[1;33m\u001b[0m\u001b[0m\n\u001b[1;32m---> 11\u001b[1;33m         \u001b[0mcursor\u001b[0m\u001b[1;33m.\u001b[0m\u001b[0mexecute\u001b[0m\u001b[1;33m(\u001b[0m\u001b[0msql\u001b[0m\u001b[1;33m)\u001b[0m\u001b[1;33m\u001b[0m\u001b[1;33m\u001b[0m\u001b[0m\n\u001b[0m\u001b[0;32m     12\u001b[0m         \u001b[0mcont\u001b[0m\u001b[1;33m+=\u001b[0m\u001b[1;36m1\u001b[0m\u001b[1;33m\u001b[0m\u001b[1;33m\u001b[0m\u001b[0m\n",
      "\u001b[1;32mc:\\users\\denise_\\appdata\\local\\programs\\python\\python37\\lib\\encodings\\utf_8.py\u001b[0m in \u001b[0;36mdecode\u001b[1;34m(input, errors)\u001b[0m\n\u001b[0;32m     13\u001b[0m \u001b[0mencode\u001b[0m \u001b[1;33m=\u001b[0m \u001b[0mcodecs\u001b[0m\u001b[1;33m.\u001b[0m\u001b[0mutf_8_encode\u001b[0m\u001b[1;33m\u001b[0m\u001b[1;33m\u001b[0m\u001b[0m\n\u001b[0;32m     14\u001b[0m \u001b[1;33m\u001b[0m\u001b[0m\n\u001b[1;32m---> 15\u001b[1;33m \u001b[1;32mdef\u001b[0m \u001b[0mdecode\u001b[0m\u001b[1;33m(\u001b[0m\u001b[0minput\u001b[0m\u001b[1;33m,\u001b[0m \u001b[0merrors\u001b[0m\u001b[1;33m=\u001b[0m\u001b[1;34m'strict'\u001b[0m\u001b[1;33m)\u001b[0m\u001b[1;33m:\u001b[0m\u001b[1;33m\u001b[0m\u001b[1;33m\u001b[0m\u001b[0m\n\u001b[0m\u001b[0;32m     16\u001b[0m     \u001b[1;32mreturn\u001b[0m \u001b[0mcodecs\u001b[0m\u001b[1;33m.\u001b[0m\u001b[0mutf_8_decode\u001b[0m\u001b[1;33m(\u001b[0m\u001b[0minput\u001b[0m\u001b[1;33m,\u001b[0m \u001b[0merrors\u001b[0m\u001b[1;33m,\u001b[0m \u001b[1;32mTrue\u001b[0m\u001b[1;33m)\u001b[0m\u001b[1;33m\u001b[0m\u001b[1;33m\u001b[0m\u001b[0m\n\u001b[0;32m     17\u001b[0m \u001b[1;33m\u001b[0m\u001b[0m\n",
      "\u001b[1;31mKeyboardInterrupt\u001b[0m: "
     ]
    }
   ],
   "source": [
    "#adicionando dados do df na tabela \n",
    "\n",
    "df = pd.read_csv(r'C:/births.csv')\n",
    "\n",
    "cont = 0\n",
    "for x in df.values:\n",
    "    if cont == 5000:\n",
    "        break\n",
    "    else:\n",
    "        sql = \"INSERT INTO births2 VALUES ({}, {}, {}, '{}', {})\".format(x[0],x[1],x[2],x[3],x[4])\n",
    "        cursor.execute(sql)\n",
    "        cont+=1"
   ]
  },
  {
   "cell_type": "code",
   "execution_count": 130,
   "metadata": {},
   "outputs": [
    {
     "name": "stdout",
     "output_type": "stream",
     "text": [
      "<class 'pandas.core.frame.DataFrame'>\n",
      "RangeIndex: 4793 entries, 0 to 4792\n",
      "Data columns (total 5 columns):\n",
      "year      4793 non-null int64\n",
      "month     4793 non-null int64\n",
      "day       4793 non-null int64\n",
      "gender    4793 non-null object\n",
      "births    4793 non-null int64\n",
      "dtypes: int64(4), object(1)\n",
      "memory usage: 187.4+ KB\n"
     ]
    }
   ],
   "source": [
    "#testando se esta conectado e com dados\n",
    "import pandas as pd\n",
    "\n",
    "sql = \"SELECT * from births2\"\n",
    "cursor.execute(sql)\n",
    "df2 = pd.read_sql(sql, connection)\n",
    "\n",
    "df2()"
   ]
  },
  {
   "cell_type": "markdown",
   "metadata": {},
   "source": [
    "sql = \"DELETE FROM births2\"\n",
    "cursor.execute(sql)"
   ]
  },
  {
   "cell_type": "code",
   "execution_count": 3,
   "metadata": {},
   "outputs": [],
   "source": [
    "from flask import Flask, request\n",
    "import pandas as pd\n",
    "import matplotlib.pyplot as plt\n",
    "import numpy as np"
   ]
  },
  {
   "cell_type": "code",
   "execution_count": 33,
   "metadata": {},
   "outputs": [
    {
     "name": "stdout",
     "output_type": "stream",
     "text": [
      " * Serving Flask app \"__main__\" (lazy loading)\n",
      " * Environment: production\n",
      "   WARNING: This is a development server. Do not use it in a production deployment.\n",
      "   Use a production WSGI server instead.\n",
      " * Debug mode: off\n"
     ]
    },
    {
     "name": "stderr",
     "output_type": "stream",
     "text": [
      " * Running on http://127.0.0.1:5001/ (Press CTRL+C to quit)\n"
     ]
    },
    {
     "data": {
      "image/png": "[encoded data removed]",
      "text/plain": [
       "<Figure size 432x288 with 1 Axes>"
      ]
     },
     "metadata": {
      "needs_background": "light"
     },
     "output_type": "display_data"
    },
    {
     "name": "stderr",
     "output_type": "stream",
     "text": [
      "127.0.0.1 - - [19/Feb/2020 18:53:14] \"GET /year HTTP/1.1\" 200 -\n"
     ]
    }
   ],
   "source": [
    "app = Flask(__name__)\n",
    "\n",
    "@app.route(\"/year\", methods=['GET'])\n",
    "def year():\n",
    "\n",
    "    query = \"SELECT year, month, births FROM births2 WHERE year = (SELECT year FROM births2 GROUP BY year ORDER BY sum(births) DESC LIMIT 1)\"\n",
    "\n",
    "    try:\n",
    "        df = pd.read_sql(query, connection)\n",
    "        \n",
    "        ano = df[\"year\"][0]\n",
    "        \n",
    "        plt.bar(df['month'], df['births'])\n",
    "        plt.xticks(df['month'])\n",
    "        plt.show()\n",
    "      \n",
    "        return 'Sucesso! Ano {} com maior número de pessoas.'.format(int(ano)), 200\n",
    "    except:\n",
    "        return \"Não foi possível fazer SELECT na tabela.\", 500\n",
    "\n",
    "app.run(port=5001)"
   ]
  },
  {
   "cell_type": "code",
   "execution_count": 101,
   "metadata": {},
   "outputs": [
    {
     "name": "stdout",
     "output_type": "stream",
     "text": [
      " * Serving Flask app \"__main__\" (lazy loading)\n",
      " * Environment: production\n",
      "   WARNING: This is a development server. Do not use it in a production deployment.\n",
      "   Use a production WSGI server instead.\n",
      " * Debug mode: off\n"
     ]
    },
    {
     "name": "stderr",
     "output_type": "stream",
     "text": [
      " * Running on http://127.0.0.1:5001/ (Press CTRL+C to quit)\n"
     ]
    },
    {
     "data": {
      "image/png": "[encoded data removed]",
      "text/plain": [
       "<Figure size 432x288 with 1 Axes>"
      ]
     },
     "metadata": {
      "needs_background": "light"
     },
     "output_type": "display_data"
    },
    {
     "name": "stderr",
     "output_type": "stream",
     "text": [
      "127.0.0.1 - - [19/Feb/2020 19:53:30] \"GET /year HTTP/1.1\" 200 -\n"
     ]
    }
   ],
   "source": [
    "app = Flask(__name__)\n",
    "\n",
    "@app.route(\"/mes_F\", methods=['GET'])\n",
    "def mes_F():\n",
    "\n",
    "    query = \"SELECT day, month, births, gender FROM births2 WHERE gender = 'F'  AND day <= 31 AND month = (SELECT month FROM births2 GROUP BY month ORDER BY sum(births) DESC LIMIT 1)\"\n",
    "\n",
    "    try:\n",
    "        df = pd.read_sql(query, connection)\n",
    "        \n",
    "        mes = df[\"month\"][0]\n",
    "        df['soma'] = df.groupby('day')[\"births\"].transform(np.sum)\n",
    "        \n",
    "        plt.plot(df['day'], df['soma'])\n",
    "        plt.xticks(df['day'])\n",
    "        plt.show()\n",
    "      \n",
    "        return 'Sucesso! Mês {} com maior número de mulheres.'.format(int(mes)), 200\n",
    "    except:\n",
    "        return \"Não foi possível fazer SELECT na tabela.\", 500\n",
    "\n",
    "app.run(port=5001)"
   ]
  },
  {
   "cell_type": "code",
   "execution_count": 123,
   "metadata": {},
   "outputs": [
    {
     "name": "stdout",
     "output_type": "stream",
     "text": [
      " * Serving Flask app \"__main__\" (lazy loading)\n",
      " * Environment: production\n",
      "   WARNING: This is a development server. Do not use it in a production deployment.\n",
      "   Use a production WSGI server instead.\n",
      " * Debug mode: off\n"
     ]
    },
    {
     "name": "stderr",
     "output_type": "stream",
     "text": [
      " * Running on http://127.0.0.1:5001/ (Press CTRL+C to quit)\n"
     ]
    },
    {
     "data": {
      "image/png": "[encoded data removed]",
      "text/plain": [
       "<Figure size 432x288 with 1 Axes>"
      ]
     },
     "metadata": {
      "needs_background": "light"
     },
     "output_type": "display_data"
    },
    {
     "name": "stderr",
     "output_type": "stream",
     "text": [
      "127.0.0.1 - - [19/Feb/2020 20:43:46] \"GET /mes_M/3 HTTP/1.1\" 200 -\n"
     ]
    },
    {
     "data": {
      "image/png": "[encoded data removed]",
      "text/plain": [
       "<Figure size 432x288 with 1 Axes>"
      ]
     },
     "metadata": {
      "needs_background": "light"
     },
     "output_type": "display_data"
    },
    {
     "name": "stderr",
     "output_type": "stream",
     "text": [
      "127.0.0.1 - - [19/Feb/2020 20:44:00] \"GET /mes_M/5 HTTP/1.1\" 200 -\n"
     ]
    }
   ],
   "source": [
    "app = Flask(__name__)\n",
    "\n",
    "@app.route(\"/mes_M/<mes>\", methods=['GET'])\n",
    "def mes_M(mes):\n",
    "\n",
    "    query = \"SELECT month, births, day FROM births2 WHERE gender = 'M' AND day <= 31 AND month = {}\".format(int(mes))\n",
    "\n",
    "    try:\n",
    "        df = pd.read_sql(query, connection)\n",
    "              \n",
    "        plt.bar(df['day'], df['births'])\n",
    "        plt.xticks(df['day'])\n",
    "        plt.show()\n",
    "      \n",
    "        return 'Sucesso! Mês {} com {} homens.'.format(int(mes), df['births'].sum()), 200\n",
    "    except:\n",
    "        return \"Não foi possível fazer SELECT na tabela.\", 500\n",
    "\n",
    "app.run(port=5001)"
   ]
  }
 ],
 "metadata": {
  "kernelspec": {
   "display_name": "Python 3",
   "language": "python",
   "name": "python3"
  },
  "language_info": {
   "codemirror_mode": {
    "name": "ipython",
    "version": 3
   },
   "file_extension": ".py",
   "mimetype": "text/x-python",
   "name": "python",
   "nbconvert_exporter": "python",
   "pygments_lexer": "ipython3",
   "version": "3.7.4"
  }
 },
 "nbformat": 4,
 "nbformat_minor": 2
}
